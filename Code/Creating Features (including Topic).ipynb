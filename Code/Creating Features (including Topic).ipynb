{
 "cells": [
  {
   "cell_type": "markdown",
   "metadata": {},
   "source": [
    "# Creating Features\n",
    "\n",
    "In this notebook, create features for Clinton and Trump:\n",
    "* Topic based on hashtag\n",
    "* Presence of url, mention or hash tag\n",
    "* Days before the election, weekday, time of day\n",
    "* Who is mentioned in a tweet"
   ]
  },
  {
   "cell_type": "code",
   "execution_count": 1,
   "metadata": {},
   "outputs": [],
   "source": [
    "# Data Structures\n",
    "import numpy  as np\n",
    "import pandas as pd\n",
    "import csv\n",
    "import pickle\n",
    "\n",
    "# Corpus Processing\n",
    "import re\n",
    "import nltk.corpus\n",
    "from unidecode                        import unidecode\n",
    "from nltk.tokenize                    import word_tokenize\n",
    "from nltk                             import SnowballStemmer"
   ]
  },
  {
   "cell_type": "code",
   "execution_count": 2,
   "metadata": {},
   "outputs": [],
   "source": [
    "pd.set_option('display.max_colwidth', None)"
   ]
  },
  {
   "cell_type": "markdown",
   "metadata": {},
   "source": [
    "# Tweets\n",
    "## Open Data Set With Readability Scores"
   ]
  },
  {
   "cell_type": "code",
   "execution_count": 3,
   "metadata": {},
   "outputs": [],
   "source": [
    "path_clinton = '../Data/tweets_clinton_20151109_20161109_readability.json'\n",
    "\n",
    "with open(path_clinton, encoding=\"utf8\") as f:\n",
    "    tweets_clinton = pd.read_json(f, orient='columns', convert_axes=True, dtype=True, lines=False)"
   ]
  },
  {
   "cell_type": "markdown",
   "metadata": {},
   "source": [
    "### Topic based on hash tag"
   ]
  },
  {
   "cell_type": "code",
   "execution_count": 4,
   "metadata": {},
   "outputs": [],
   "source": [
    "path_categories = '../Topics/topic_categories.csv'\n",
    "\n",
    "with open(path_categories, encoding = 'utf8') as f:\n",
    "    reader = csv.reader(f)\n",
    "    hashtag_cats = {rows[0]:rows[1] for rows in reader}"
   ]
  },
  {
   "cell_type": "code",
   "execution_count": 5,
   "metadata": {},
   "outputs": [],
   "source": [
    "def get_topic(hashtags):\n",
    "    if len(hashtags) > 0:\n",
    "        return hashtag_cats[hashtags[0]]\n",
    "    else:\n",
    "        return 'no topic'"
   ]
  },
  {
   "cell_type": "code",
   "execution_count": 6,
   "metadata": {},
   "outputs": [
    {
     "data": {
      "text/plain": [
       "0            no topic\n",
       "1            no topic\n",
       "2            no topic\n",
       "3            no topic\n",
       "4            no topic\n",
       "            ...      \n",
       "5997         no topic\n",
       "5998         no topic\n",
       "5999         no topic\n",
       "6000    miscellaneous\n",
       "6001         no topic\n",
       "Name: topic_hashtag, Length: 6002, dtype: object"
      ]
     },
     "execution_count": 6,
     "metadata": {},
     "output_type": "execute_result"
    }
   ],
   "source": [
    "tweets_clinton['topic_hashtag'] = tweets_clinton.apply(lambda x: get_topic(x.hashtags), axis = 1)\n",
    "\n",
    "tweets_clinton['topic_hashtag']"
   ]
  },
  {
   "cell_type": "markdown",
   "metadata": {},
   "source": [
    "## Presence of Url, Mention, Hash Tag"
   ]
  },
  {
   "cell_type": "code",
   "execution_count": 7,
   "metadata": {},
   "outputs": [],
   "source": [
    "url_pattern = r\"(?i)\\b((?:https?://|www\\d{0,3}[.]|[a-z0-9.\\-]+[.][a-z]{2,4}/)(?:[^\\s()<>]+|\\(([^\\s()<>]+|(\\([^\\s()<>]+\\)))*\\))+(?:\\(([^\\s()<>]+|(\\([^\\s()<>]+\\)))*\\)|[^\\s`!()\\[\\]{};:'\\\".,<>?«»“”‘’]))\"\n",
    "mention_pattern = r\"(?:[\\s\\.-–()^=+\\[\\{\\]\\}|\\\\:;\\\"',.<>\\/?~`])([@][\\w_-]+)\"\n",
    "hashtag_pattern = r\"(?:\\W)([#][\\w_-]+)\""
   ]
  },
  {
   "cell_type": "code",
   "execution_count": 8,
   "metadata": {},
   "outputs": [],
   "source": [
    "presence_urlmentionhashtag = {\n",
    "    'presence url': False,\n",
    "    'presence mention':  False,\n",
    "    'presence hashtag': False\n",
    "}"
   ]
  },
  {
   "cell_type": "code",
   "execution_count": 9,
   "metadata": {},
   "outputs": [],
   "source": [
    "def find_url_mention_hashtag(tweet):\n",
    "    offset = 10\n",
    "    \n",
    "    try:\n",
    "        presence = presence_urlmentionhashtag.copy()\n",
    "\n",
    "        # Find url\n",
    "        url = re.search(url_pattern, tweet)\n",
    "        if url:\n",
    "            presence['presence url'] = True\n",
    "\n",
    "        # Find mention\n",
    "        mention = re.search(mention_pattern, tweet)\n",
    "        if mention:\n",
    "            presence['presence mention'] = True\n",
    "            \n",
    "        # Find hashtag\n",
    "        hashtag = re.search(hashtag_pattern, tweet)\n",
    "        if hashtag:\n",
    "            presence['presence hashtag'] = True\n",
    "            \n",
    "        return pd.Series(presence)\n",
    "    \n",
    "    except ValueError:\n",
    "        return None"
   ]
  },
  {
   "cell_type": "code",
   "execution_count": 10,
   "metadata": {},
   "outputs": [],
   "source": [
    "tweets_clinton_presence = tweets_clinton.apply(lambda x: find_url_mention_hashtag(x.text), axis = 1)"
   ]
  },
  {
   "cell_type": "code",
   "execution_count": 11,
   "metadata": {},
   "outputs": [
    {
     "data": {
      "text/html": [
       "<div>\n",
       "<style scoped>\n",
       "    .dataframe tbody tr th:only-of-type {\n",
       "        vertical-align: middle;\n",
       "    }\n",
       "\n",
       "    .dataframe tbody tr th {\n",
       "        vertical-align: top;\n",
       "    }\n",
       "\n",
       "    .dataframe thead th {\n",
       "        text-align: right;\n",
       "    }\n",
       "</style>\n",
       "<table border=\"1\" class=\"dataframe\">\n",
       "  <thead>\n",
       "    <tr style=\"text-align: right;\">\n",
       "      <th></th>\n",
       "      <th>presence url</th>\n",
       "      <th>presence mention</th>\n",
       "      <th>presence hashtag</th>\n",
       "    </tr>\n",
       "  </thead>\n",
       "  <tbody>\n",
       "    <tr>\n",
       "      <th>1027</th>\n",
       "      <td>True</td>\n",
       "      <td>False</td>\n",
       "      <td>True</td>\n",
       "    </tr>\n",
       "    <tr>\n",
       "      <th>5138</th>\n",
       "      <td>True</td>\n",
       "      <td>False</td>\n",
       "      <td>False</td>\n",
       "    </tr>\n",
       "    <tr>\n",
       "      <th>2814</th>\n",
       "      <td>True</td>\n",
       "      <td>True</td>\n",
       "      <td>False</td>\n",
       "    </tr>\n",
       "    <tr>\n",
       "      <th>365</th>\n",
       "      <td>True</td>\n",
       "      <td>False</td>\n",
       "      <td>False</td>\n",
       "    </tr>\n",
       "    <tr>\n",
       "      <th>3347</th>\n",
       "      <td>False</td>\n",
       "      <td>False</td>\n",
       "      <td>False</td>\n",
       "    </tr>\n",
       "  </tbody>\n",
       "</table>\n",
       "</div>"
      ],
      "text/plain": [
       "      presence url  presence mention  presence hashtag\n",
       "1027          True             False              True\n",
       "5138          True             False             False\n",
       "2814          True              True             False\n",
       "365           True             False             False\n",
       "3347         False             False             False"
      ]
     },
     "execution_count": 11,
     "metadata": {},
     "output_type": "execute_result"
    }
   ],
   "source": [
    "tweets_clinton_presence.sample(n = 5, random_state = 75)"
   ]
  },
  {
   "cell_type": "code",
   "execution_count": 12,
   "metadata": {},
   "outputs": [],
   "source": [
    "tweets_clinton = tweets_clinton.merge(tweets_clinton_presence, how = 'left', left_index = True, right_index = True)"
   ]
  },
  {
   "cell_type": "markdown",
   "metadata": {},
   "source": [
    "## Features Related to Date and Time\n",
    "### Days Before Election"
   ]
  },
  {
   "cell_type": "code",
   "execution_count": 13,
   "metadata": {},
   "outputs": [],
   "source": [
    "election_date = pd.Timestamp('2016-11-08T12')\n",
    "\n",
    "def to_days_before_election(time_stamp):\n",
    "    return (time_stamp - election_date).days"
   ]
  },
  {
   "cell_type": "code",
   "execution_count": 14,
   "metadata": {},
   "outputs": [],
   "source": [
    "# Days before election is the number of days before the election\n",
    "# Meaning that November 8, 2016 is encoded as 0\n",
    "# And the day before it, November 8, 2016 as -1, etc\n",
    "tweets_clinton['days before election'] = tweets_clinton.apply(lambda x: to_days_before_election(x['created_at']), axis = 1)"
   ]
  },
  {
   "cell_type": "markdown",
   "metadata": {},
   "source": [
    "### Day of the Week"
   ]
  },
  {
   "cell_type": "code",
   "execution_count": 15,
   "metadata": {},
   "outputs": [],
   "source": [
    "days_of_the_week = {\n",
    "    'day monday': False,\n",
    "    'day tuesday': False,\n",
    "    'day wednesday': False,\n",
    "    'day thursday': False,\n",
    "    'day friday': False,\n",
    "    'day saturday': False,\n",
    "    'day sunday': False\n",
    "}\n",
    "\n",
    "def day_of_week(timestamp):\n",
    "    try:\n",
    "        days = days_of_the_week.copy()\n",
    "        day_of_week = timestamp.dayofweek\n",
    "        \n",
    "        if day_of_week == 0:\n",
    "            days['day monday'] = True\n",
    "        elif day_of_week == 1:\n",
    "            days['day tuesday'] = True\n",
    "        elif day_of_week == 2:\n",
    "            days['day wednesday'] = True\n",
    "        elif day_of_week == 3:\n",
    "            days['day thursday'] = True\n",
    "        elif day_of_week == 4:\n",
    "            days['day friday'] = True\n",
    "        elif day_of_week == 5:\n",
    "            days['day saturday'] = True\n",
    "        elif day_of_week == 6:\n",
    "            days['day sunday'] = True\n",
    "        \n",
    "        return pd.Series(days)\n",
    "    except ValueError:\n",
    "        return None"
   ]
  },
  {
   "cell_type": "code",
   "execution_count": 16,
   "metadata": {},
   "outputs": [],
   "source": [
    "# Get the day of the week of every tweet\n",
    "tweets_clinton_day_of_week = tweets_clinton.apply(lambda x: day_of_week(x['created_at']), axis = 1)"
   ]
  },
  {
   "cell_type": "code",
   "execution_count": 17,
   "metadata": {},
   "outputs": [
    {
     "data": {
      "text/html": [
       "<div>\n",
       "<style scoped>\n",
       "    .dataframe tbody tr th:only-of-type {\n",
       "        vertical-align: middle;\n",
       "    }\n",
       "\n",
       "    .dataframe tbody tr th {\n",
       "        vertical-align: top;\n",
       "    }\n",
       "\n",
       "    .dataframe thead th {\n",
       "        text-align: right;\n",
       "    }\n",
       "</style>\n",
       "<table border=\"1\" class=\"dataframe\">\n",
       "  <thead>\n",
       "    <tr style=\"text-align: right;\">\n",
       "      <th></th>\n",
       "      <th>day monday</th>\n",
       "      <th>day tuesday</th>\n",
       "      <th>day wednesday</th>\n",
       "      <th>day thursday</th>\n",
       "      <th>day friday</th>\n",
       "      <th>day saturday</th>\n",
       "      <th>day sunday</th>\n",
       "    </tr>\n",
       "  </thead>\n",
       "  <tbody>\n",
       "    <tr>\n",
       "      <th>1027</th>\n",
       "      <td>False</td>\n",
       "      <td>False</td>\n",
       "      <td>False</td>\n",
       "      <td>True</td>\n",
       "      <td>False</td>\n",
       "      <td>False</td>\n",
       "      <td>False</td>\n",
       "    </tr>\n",
       "    <tr>\n",
       "      <th>5138</th>\n",
       "      <td>False</td>\n",
       "      <td>False</td>\n",
       "      <td>True</td>\n",
       "      <td>False</td>\n",
       "      <td>False</td>\n",
       "      <td>False</td>\n",
       "      <td>False</td>\n",
       "    </tr>\n",
       "    <tr>\n",
       "      <th>2814</th>\n",
       "      <td>True</td>\n",
       "      <td>False</td>\n",
       "      <td>False</td>\n",
       "      <td>False</td>\n",
       "      <td>False</td>\n",
       "      <td>False</td>\n",
       "      <td>False</td>\n",
       "    </tr>\n",
       "    <tr>\n",
       "      <th>365</th>\n",
       "      <td>False</td>\n",
       "      <td>True</td>\n",
       "      <td>False</td>\n",
       "      <td>False</td>\n",
       "      <td>False</td>\n",
       "      <td>False</td>\n",
       "      <td>False</td>\n",
       "    </tr>\n",
       "    <tr>\n",
       "      <th>3347</th>\n",
       "      <td>False</td>\n",
       "      <td>False</td>\n",
       "      <td>False</td>\n",
       "      <td>False</td>\n",
       "      <td>True</td>\n",
       "      <td>False</td>\n",
       "      <td>False</td>\n",
       "    </tr>\n",
       "  </tbody>\n",
       "</table>\n",
       "</div>"
      ],
      "text/plain": [
       "      day monday  day tuesday  day wednesday  day thursday  day friday  \\\n",
       "1027       False        False          False          True       False   \n",
       "5138       False        False           True         False       False   \n",
       "2814        True        False          False         False       False   \n",
       "365        False         True          False         False       False   \n",
       "3347       False        False          False         False        True   \n",
       "\n",
       "      day saturday  day sunday  \n",
       "1027         False       False  \n",
       "5138         False       False  \n",
       "2814         False       False  \n",
       "365          False       False  \n",
       "3347         False       False  "
      ]
     },
     "execution_count": 17,
     "metadata": {},
     "output_type": "execute_result"
    }
   ],
   "source": [
    "tweets_clinton_day_of_week.sample(n = 5, random_state = 75)"
   ]
  },
  {
   "cell_type": "code",
   "execution_count": 18,
   "metadata": {},
   "outputs": [],
   "source": [
    "# Merge 'day of the week' dataframe with tweets dataframe\n",
    "tweets_clinton = tweets_clinton.merge(tweets_clinton_day_of_week, how = 'left', left_index = True, right_index = True)"
   ]
  },
  {
   "cell_type": "markdown",
   "metadata": {},
   "source": [
    "### Hour of the Day"
   ]
  },
  {
   "cell_type": "code",
   "execution_count": 19,
   "metadata": {},
   "outputs": [],
   "source": [
    "# Get the hour of the day of every tweet\n",
    "tweets_clinton['hour of the day'] = tweets_clinton.apply(lambda x: x['created_at'].hour, axis = 1)"
   ]
  },
  {
   "cell_type": "markdown",
   "metadata": {},
   "source": [
    "## Mentioned in Tweet"
   ]
  },
  {
   "cell_type": "code",
   "execution_count": 20,
   "metadata": {},
   "outputs": [],
   "source": [
    "# removes a list of words (ie. stopwords) from a tokenized list.\n",
    "def removeWords(listOfTokens, listOfWords):\n",
    "    return [token for token in listOfTokens if token not in listOfWords]\n",
    "\n",
    "# applies stemming to a list of tokenized words\n",
    "def applyStemming(listOfTokens, stemmer):\n",
    "    return [stemmer.stem(token) for token in listOfTokens]\n",
    "\n",
    "# removes any words composed of less than 2 letters\n",
    "def twoLetters(listOfTokens):\n",
    "    twoLetterWord = []\n",
    "    for token in listOfTokens:\n",
    "        if len(token) <= 2:\n",
    "            twoLetterWord.append(token)\n",
    "    return twoLetterWord"
   ]
  },
  {
   "cell_type": "code",
   "execution_count": 21,
   "metadata": {},
   "outputs": [],
   "source": [
    "def processCorpus(corpus, language):   \n",
    "    stopwords = nltk.corpus.stopwords.words(language)\n",
    "    param_stemmer = SnowballStemmer(language)\n",
    "    \n",
    "    for document in corpus:\n",
    "        index = corpus.index(document)\n",
    "        corpus[index] = corpus[index].replace(u'\\ufffd', '8')   # Replaces the ASCII '�' symbol with '8'\n",
    "        corpus[index] = corpus[index].replace(',', '')          # Removes commas\n",
    "        corpus[index] = corpus[index].rstrip('\\n')              # Removes line breaks\n",
    "        corpus[index] = corpus[index].casefold()                # Makes all letters lowercase\n",
    "        \n",
    "        corpus[index] = re.sub('\\W_',' ', corpus[index])        # removes specials characters and leaves only words\n",
    "        corpus[index] = re.sub(\"\\S*\\d\\S*\",\" \", corpus[index])   # removes numbers and words concatenated with numbers IE h4ck3r. Removes road names such as BR-381.\n",
    "        corpus[index] = re.sub(r'http\\S+', '', corpus[index])   # removes URLs with http\n",
    "        corpus[index] = re.sub(r'www\\S+', '', corpus[index])    # removes URLs with www\n",
    "\n",
    "        listOfTokens = word_tokenize(corpus[index])\n",
    "        twoLetterWord = twoLetters(listOfTokens)\n",
    "\n",
    "        listOfTokens = removeWords(listOfTokens, stopwords)\n",
    "        listOfTokens = removeWords(listOfTokens, twoLetterWord)\n",
    "        \n",
    "        listOfTokens = applyStemming(listOfTokens, param_stemmer)\n",
    "        \n",
    "        corpus[index] = listOfTokens\n",
    "\n",
    "    return corpus"
   ]
  },
  {
   "cell_type": "code",
   "execution_count": 22,
   "metadata": {},
   "outputs": [],
   "source": [
    "corpus_clinton = tweets_clinton['text'].tolist()"
   ]
  },
  {
   "cell_type": "code",
   "execution_count": 23,
   "metadata": {},
   "outputs": [],
   "source": [
    "language = 'english'\n",
    "corpus_clinton_tokenized = processCorpus(corpus_clinton, language)"
   ]
  },
  {
   "cell_type": "code",
   "execution_count": 24,
   "metadata": {},
   "outputs": [],
   "source": [
    "corpus_clinton_joined = []\n",
    "\n",
    "for doc in corpus_clinton_tokenized:\n",
    "    doc_joined = \" \".join(doc)\n",
    "    doc_unidecode = unidecode(doc_joined)\n",
    "    corpus_clinton_joined.append(doc_unidecode)"
   ]
  },
  {
   "cell_type": "code",
   "execution_count": 25,
   "metadata": {},
   "outputs": [],
   "source": [
    "corpus_clinton_series = pd.Series(corpus_clinton_joined)"
   ]
  },
  {
   "cell_type": "code",
   "execution_count": 26,
   "metadata": {},
   "outputs": [],
   "source": [
    "mention_trump = ['trump', 'donald', 'nevertrump', 'realdonaldtrump']\n",
    "mention_clinton = ['clinton', 'hillari', 'hillary', '-hillari', 'crookedhillari', 'noclintoninwheveragain', 'hillaryclinton']\n",
    "\n",
    "mention_dem_candidate = ['bernie', 'sanders', 'berni', 'sander']\n",
    "mention_rep_candidate = ['kasich', 'cruz', 'rubio', 'carson', 'bush', 'gilmore', 'gilmor', 'santorum', 'christie', 'christi', 'fiorina', 'paul', 'huckabee', 'huckabe']\n",
    "\n",
    "mention_obama = ['barack', 'obama']"
   ]
  },
  {
   "cell_type": "code",
   "execution_count": 27,
   "metadata": {},
   "outputs": [],
   "source": [
    "mentions_dict = {\n",
    "    'mention trump': False,\n",
    "    'mention clinton': False,\n",
    "    'mention dem candidate': False,\n",
    "    'mention rep candidate': False,\n",
    "    'mention obama': False\n",
    "}"
   ]
  },
  {
   "cell_type": "code",
   "execution_count": 28,
   "metadata": {},
   "outputs": [],
   "source": [
    "def extract_mentions(tokenized_tweet):\n",
    "    try:\n",
    "        mentions = mentions_dict.copy()\n",
    "\n",
    "        for word in tokenized_tweet.split():\n",
    "            if word in mention_trump:\n",
    "                mentions['mention trump'] = True\n",
    "            if word in mention_clinton:\n",
    "                mentions['mention clinton'] = True\n",
    "            if word in mention_dem_candidate:\n",
    "                mentions['mention dem candidate'] = True\n",
    "            if word in mention_rep_candidate:\n",
    "                mentions['mention rep candidate'] = True\n",
    "            if word in mention_obama:\n",
    "                mentions['mention obama'] = True\n",
    "        \n",
    "        return pd.Series(mentions)\n",
    "    \n",
    "    except ValueError:\n",
    "        return None"
   ]
  },
  {
   "cell_type": "code",
   "execution_count": 29,
   "metadata": {},
   "outputs": [],
   "source": [
    "tweets_clinton_mentions = corpus_clinton_series.apply(lambda x: extract_mentions(x))"
   ]
  },
  {
   "cell_type": "code",
   "execution_count": 30,
   "metadata": {},
   "outputs": [
    {
     "data": {
      "text/html": [
       "<div>\n",
       "<style scoped>\n",
       "    .dataframe tbody tr th:only-of-type {\n",
       "        vertical-align: middle;\n",
       "    }\n",
       "\n",
       "    .dataframe tbody tr th {\n",
       "        vertical-align: top;\n",
       "    }\n",
       "\n",
       "    .dataframe thead th {\n",
       "        text-align: right;\n",
       "    }\n",
       "</style>\n",
       "<table border=\"1\" class=\"dataframe\">\n",
       "  <thead>\n",
       "    <tr style=\"text-align: right;\">\n",
       "      <th></th>\n",
       "      <th>mention trump</th>\n",
       "      <th>mention clinton</th>\n",
       "      <th>mention dem candidate</th>\n",
       "      <th>mention rep candidate</th>\n",
       "      <th>mention obama</th>\n",
       "    </tr>\n",
       "  </thead>\n",
       "  <tbody>\n",
       "    <tr>\n",
       "      <th>1027</th>\n",
       "      <td>True</td>\n",
       "      <td>False</td>\n",
       "      <td>False</td>\n",
       "      <td>True</td>\n",
       "      <td>False</td>\n",
       "    </tr>\n",
       "    <tr>\n",
       "      <th>5138</th>\n",
       "      <td>False</td>\n",
       "      <td>True</td>\n",
       "      <td>False</td>\n",
       "      <td>False</td>\n",
       "      <td>False</td>\n",
       "    </tr>\n",
       "    <tr>\n",
       "      <th>2814</th>\n",
       "      <td>False</td>\n",
       "      <td>True</td>\n",
       "      <td>False</td>\n",
       "      <td>False</td>\n",
       "      <td>False</td>\n",
       "    </tr>\n",
       "    <tr>\n",
       "      <th>365</th>\n",
       "      <td>False</td>\n",
       "      <td>False</td>\n",
       "      <td>False</td>\n",
       "      <td>False</td>\n",
       "      <td>False</td>\n",
       "    </tr>\n",
       "    <tr>\n",
       "      <th>3347</th>\n",
       "      <td>False</td>\n",
       "      <td>False</td>\n",
       "      <td>False</td>\n",
       "      <td>False</td>\n",
       "      <td>False</td>\n",
       "    </tr>\n",
       "  </tbody>\n",
       "</table>\n",
       "</div>"
      ],
      "text/plain": [
       "      mention trump  mention clinton  mention dem candidate  \\\n",
       "1027           True            False                  False   \n",
       "5138          False             True                  False   \n",
       "2814          False             True                  False   \n",
       "365           False            False                  False   \n",
       "3347          False            False                  False   \n",
       "\n",
       "      mention rep candidate  mention obama  \n",
       "1027                   True          False  \n",
       "5138                  False          False  \n",
       "2814                  False          False  \n",
       "365                   False          False  \n",
       "3347                  False          False  "
      ]
     },
     "execution_count": 30,
     "metadata": {},
     "output_type": "execute_result"
    }
   ],
   "source": [
    "tweets_clinton_mentions.sample(n = 5, random_state = 75)"
   ]
  },
  {
   "cell_type": "code",
   "execution_count": 31,
   "metadata": {},
   "outputs": [],
   "source": [
    "tweets_clinton = tweets_clinton.merge(tweets_clinton_mentions, how = 'left', left_index = True, right_index = True)"
   ]
  },
  {
   "cell_type": "markdown",
   "metadata": {},
   "source": [
    "## Save Dataframe"
   ]
  },
  {
   "cell_type": "code",
   "execution_count": 32,
   "metadata": {},
   "outputs": [],
   "source": [
    "json_path = '../Data/tweets_clinton_20151109_20161109_readability_extrafeatures.json'\n",
    "\n",
    "# Save full dataframe as csv\n",
    "tweets_clinton.to_json(json_path, orient = 'columns')"
   ]
  },
  {
   "cell_type": "markdown",
   "metadata": {},
   "source": [
    "***\n",
    "\n",
    "# Tweets\n",
    "## Open Data Set With Readability Scores and Hash Tags"
   ]
  },
  {
   "cell_type": "code",
   "execution_count": 33,
   "metadata": {},
   "outputs": [],
   "source": [
    "path_trump = '../Data/tweets_trump_20151109_20161109_readability.json'\n",
    "\n",
    "with open(path_trump, encoding=\"utf8\") as f:\n",
    "    tweets_trump = pd.read_json(f, orient='columns', convert_axes=True, dtype=True, lines=False)"
   ]
  },
  {
   "cell_type": "code",
   "execution_count": 34,
   "metadata": {},
   "outputs": [],
   "source": [
    "corpus_trump = tweets_trump['text'].tolist()\n",
    "\n",
    "corpus_trump_tokenized = processCorpus(corpus_trump, language)\n",
    "\n",
    "corpus_trump_joined = []\n",
    "\n",
    "for doc in corpus_trump_tokenized:\n",
    "    doc_joined = \" \".join(doc)\n",
    "    doc_unidecode = unidecode(doc_joined)\n",
    "    corpus_trump_joined.append(doc_unidecode)\n",
    "\n",
    "corpus_trump_series = pd.Series(corpus_trump_joined)"
   ]
  },
  {
   "cell_type": "markdown",
   "metadata": {},
   "source": [
    "### Topic based on hash tag"
   ]
  },
  {
   "cell_type": "code",
   "execution_count": 35,
   "metadata": {},
   "outputs": [],
   "source": [
    "tweets_trump['topic_hashtag'] = tweets_trump.apply(lambda x: get_topic(x.hashtags), axis = 1)"
   ]
  },
  {
   "cell_type": "code",
   "execution_count": 36,
   "metadata": {},
   "outputs": [
    {
     "data": {
      "text/plain": [
       "0       no topic\n",
       "1       no topic\n",
       "2       no topic\n",
       "3       no topic\n",
       "4       no topic\n",
       "          ...   \n",
       "4964    no topic\n",
       "4965    no topic\n",
       "4966    no topic\n",
       "4967    no topic\n",
       "4968       media\n",
       "Name: topic_hashtag, Length: 4969, dtype: object"
      ]
     },
     "execution_count": 36,
     "metadata": {},
     "output_type": "execute_result"
    }
   ],
   "source": [
    "tweets_trump['topic_hashtag']"
   ]
  },
  {
   "cell_type": "markdown",
   "metadata": {},
   "source": [
    "## Presence of Url, Mention, Hash Tag"
   ]
  },
  {
   "cell_type": "code",
   "execution_count": 37,
   "metadata": {},
   "outputs": [],
   "source": [
    "tweets_trump_presence = tweets_trump.apply(lambda x: find_url_mention_hashtag(x.text), axis = 1)"
   ]
  },
  {
   "cell_type": "code",
   "execution_count": 38,
   "metadata": {},
   "outputs": [],
   "source": [
    "tweets_trump = tweets_trump.merge(tweets_trump_presence, how = 'left', left_index = True, right_index = True)"
   ]
  },
  {
   "cell_type": "markdown",
   "metadata": {},
   "source": [
    "## Features Related to Date and Time\n",
    "### Days Before Election"
   ]
  },
  {
   "cell_type": "code",
   "execution_count": 39,
   "metadata": {},
   "outputs": [],
   "source": [
    "# Days before election is the number of days before the election\n",
    "# Meaning that November 8, 2016 is encoded as 0\n",
    "# And the day before it, November 8, 2016 as -1, etc\n",
    "tweets_trump['days before election'] = tweets_trump.apply(lambda x: to_days_before_election(x['created_at']), axis = 1)"
   ]
  },
  {
   "cell_type": "markdown",
   "metadata": {},
   "source": [
    "### Day of the Week"
   ]
  },
  {
   "cell_type": "code",
   "execution_count": 40,
   "metadata": {},
   "outputs": [],
   "source": [
    "# Get the day of the week of every tweet\n",
    "tweets_trump_day_of_week = tweets_trump.apply(lambda x: day_of_week(x['created_at']), axis = 1)"
   ]
  },
  {
   "cell_type": "code",
   "execution_count": 41,
   "metadata": {},
   "outputs": [
    {
     "data": {
      "text/html": [
       "<div>\n",
       "<style scoped>\n",
       "    .dataframe tbody tr th:only-of-type {\n",
       "        vertical-align: middle;\n",
       "    }\n",
       "\n",
       "    .dataframe tbody tr th {\n",
       "        vertical-align: top;\n",
       "    }\n",
       "\n",
       "    .dataframe thead th {\n",
       "        text-align: right;\n",
       "    }\n",
       "</style>\n",
       "<table border=\"1\" class=\"dataframe\">\n",
       "  <thead>\n",
       "    <tr style=\"text-align: right;\">\n",
       "      <th></th>\n",
       "      <th>day monday</th>\n",
       "      <th>day tuesday</th>\n",
       "      <th>day wednesday</th>\n",
       "      <th>day thursday</th>\n",
       "      <th>day friday</th>\n",
       "      <th>day saturday</th>\n",
       "      <th>day sunday</th>\n",
       "    </tr>\n",
       "  </thead>\n",
       "  <tbody>\n",
       "    <tr>\n",
       "      <th>4334</th>\n",
       "      <td>False</td>\n",
       "      <td>False</td>\n",
       "      <td>False</td>\n",
       "      <td>False</td>\n",
       "      <td>True</td>\n",
       "      <td>False</td>\n",
       "      <td>False</td>\n",
       "    </tr>\n",
       "    <tr>\n",
       "      <th>1816</th>\n",
       "      <td>False</td>\n",
       "      <td>False</td>\n",
       "      <td>False</td>\n",
       "      <td>False</td>\n",
       "      <td>True</td>\n",
       "      <td>False</td>\n",
       "      <td>False</td>\n",
       "    </tr>\n",
       "    <tr>\n",
       "      <th>4049</th>\n",
       "      <td>True</td>\n",
       "      <td>False</td>\n",
       "      <td>False</td>\n",
       "      <td>False</td>\n",
       "      <td>False</td>\n",
       "      <td>False</td>\n",
       "      <td>False</td>\n",
       "    </tr>\n",
       "    <tr>\n",
       "      <th>867</th>\n",
       "      <td>False</td>\n",
       "      <td>False</td>\n",
       "      <td>True</td>\n",
       "      <td>False</td>\n",
       "      <td>False</td>\n",
       "      <td>False</td>\n",
       "      <td>False</td>\n",
       "    </tr>\n",
       "    <tr>\n",
       "      <th>2149</th>\n",
       "      <td>False</td>\n",
       "      <td>False</td>\n",
       "      <td>False</td>\n",
       "      <td>False</td>\n",
       "      <td>True</td>\n",
       "      <td>False</td>\n",
       "      <td>False</td>\n",
       "    </tr>\n",
       "  </tbody>\n",
       "</table>\n",
       "</div>"
      ],
      "text/plain": [
       "      day monday  day tuesday  day wednesday  day thursday  day friday  \\\n",
       "4334       False        False          False         False        True   \n",
       "1816       False        False          False         False        True   \n",
       "4049        True        False          False         False       False   \n",
       "867        False        False           True         False       False   \n",
       "2149       False        False          False         False        True   \n",
       "\n",
       "      day saturday  day sunday  \n",
       "4334         False       False  \n",
       "1816         False       False  \n",
       "4049         False       False  \n",
       "867          False       False  \n",
       "2149         False       False  "
      ]
     },
     "execution_count": 41,
     "metadata": {},
     "output_type": "execute_result"
    }
   ],
   "source": [
    "tweets_trump_day_of_week.sample(n = 5, random_state = 75)"
   ]
  },
  {
   "cell_type": "code",
   "execution_count": 42,
   "metadata": {},
   "outputs": [],
   "source": [
    "# Merge 'day of the week' dataframe with tweets dataframe\n",
    "tweets_trump = tweets_trump.merge(tweets_trump_day_of_week, how = 'left', left_index = True, right_index = True)"
   ]
  },
  {
   "cell_type": "markdown",
   "metadata": {},
   "source": [
    "### Hour of the Day"
   ]
  },
  {
   "cell_type": "code",
   "execution_count": 43,
   "metadata": {},
   "outputs": [],
   "source": [
    "tweets_trump['hour of the day'] = tweets_trump.apply(lambda x: x['created_at'].hour, axis = 1)"
   ]
  },
  {
   "cell_type": "markdown",
   "metadata": {},
   "source": [
    "## Mentioned in Tweet"
   ]
  },
  {
   "cell_type": "code",
   "execution_count": 44,
   "metadata": {},
   "outputs": [],
   "source": [
    "tweets_trump_mentions = corpus_trump_series.apply(lambda x: extract_mentions(x))"
   ]
  },
  {
   "cell_type": "code",
   "execution_count": 45,
   "metadata": {},
   "outputs": [],
   "source": [
    "tweets_trump = tweets_trump.merge(tweets_trump_mentions, how = 'left', left_index = True, right_index = True)"
   ]
  },
  {
   "cell_type": "markdown",
   "metadata": {},
   "source": [
    "## Save Dataframe"
   ]
  },
  {
   "cell_type": "code",
   "execution_count": 46,
   "metadata": {},
   "outputs": [],
   "source": [
    "json_path = '../Data/tweets_trump_20151109_20161109_readability_extrafeatures.json'\n",
    "\n",
    "# Save full dataframe as csv\n",
    "tweets_trump.to_json(json_path, orient = 'columns')"
   ]
  }
 ],
 "metadata": {
  "kernelspec": {
   "display_name": "Python 3",
   "language": "python",
   "name": "python3"
  },
  "language_info": {
   "codemirror_mode": {
    "name": "ipython",
    "version": 3
   },
   "file_extension": ".py",
   "mimetype": "text/x-python",
   "name": "python",
   "nbconvert_exporter": "python",
   "pygments_lexer": "ipython3",
   "version": "3.9.1"
  }
 },
 "nbformat": 4,
 "nbformat_minor": 2
}
